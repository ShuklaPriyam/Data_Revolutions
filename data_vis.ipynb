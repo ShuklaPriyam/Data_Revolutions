{
 "cells": [
  {
   "cell_type": "code",
   "execution_count": null,
   "metadata": {},
   "outputs": [],
   "source": [
    "import pandas as pd\n",
    "import matplotlib\n",
    "import matplotlib.pyplot as plt\n",
    "import numpy"
   ]
  },
  {
   "cell_type": "code",
   "execution_count": null,
   "metadata": {},
   "outputs": [],
   "source": [
    "data = pd.read_excel(\"RSUI-data-1119.xlsx\", sheet_name=\"Country\")\n",
    "\n",
    "df_rsui = pd.DataFrame(data, )\n",
    "\n",
    "df_rsui = df_rsui.drop([0,1,2,3,4], axis=0)\n",
    "df_rsui = df_rsui.drop(\"Unnamed: 0\", axis= 1)\n",
    "df_rsui.columns = column_names = [\"Date\",\"Year\", \"AFG\", \"ARE\",\"ARM\",\"AZE\",\"BHR\",\"DJI\",\"DZA\",\"EGY\",\t\"GEO\",\t\"IRN\",\t\"IRQ\",\t\"JOR\",\t\"KAZ\",\t\"KGZ\",\t\"KWT\",\t\"LBN\",\t\"LBY\",\t\"MAR\",\t\"MRT\",\t\"OMN\",\t\"PAK\",\t\"QAT\",\t\"SAU\",\t\"SDN\",\t\"SOM\",\t\"SYR\",\t\"TJK\",\t\"TKM\",\t\"TUN\",\t\"UZB\",\t\"WBG\",\t\"YEM\"]\n",
    "\n",
    "plot = df_rsui.plot(x=\"Date\", y= [\"IRN\", \"EGY\", \"SYR\"],figsize=(20, 10))\n",
    "plot.set_ylabel(\"RSUI\")\n",
    "plot.set_title(\"RSUI for Iran, Syria and Egypt\")\n"
   ]
  },
  {
   "cell_type": "code",
   "execution_count": null,
   "metadata": {},
   "outputs": [],
   "source": [
    "data = pd.read_excel(\"2022 Edition CNTSDATA.xlsx\", sheet_name=\"2021 Data\")\n",
    "\n",
    "df_CNTSD = pd.DataFrame(data, )\n",
    "df_CNTSD = df_CNTSD.drop(0, axis=0)\n"
   ]
  },
  {
   "cell_type": "code",
   "execution_count": null,
   "metadata": {},
   "outputs": [],
   "source": [
    "df_CNTSD.columns"
   ]
  },
  {
   "cell_type": "code",
   "execution_count": null,
   "metadata": {},
   "outputs": [],
   "source": [
    "print(df_CNTSD.describe())\n",
    "print(df_CNTSD.info())"
   ]
  },
  {
   "cell_type": "code",
   "execution_count": null,
   "metadata": {},
   "outputs": [],
   "source": [
    "df_query = df_CNTSD.query('Country == \"United Kingdom\" or Country == \"United States\"')\n",
    "df_query.head()\n",
    "\n",
    "plot = df_query.plot(x=\"Year\", y=\"Riots\",figsize=(10, 5))"
   ]
  },
  {
   "cell_type": "code",
   "execution_count": null,
   "metadata": {},
   "outputs": [],
   "source": [
    "data_plot = df_CNTSD[df_CNTSD.Country == \"United Kingdom\"]\n",
    "\n",
    "plot = data_plot.plot(x=\"Year\", y=\"Riots\",figsize=(10, 5))"
   ]
  },
  {
   "cell_type": "markdown",
   "metadata": {},
   "source": [
    "# Data Cleaning"
   ]
  },
  {
   "cell_type": "code",
   "execution_count": null,
   "metadata": {},
   "outputs": [],
   "source": [
    "countries = df_rsui.columns\n",
    "countries.drop([\"Date\", \"Year\"])\n",
    "\n",
    "\n",
    "df_CNTSD=df_CNTSD[df_CNTSD['World Bank Code'].isin(countries)]\n",
    "\n",
    "df_CNTSD=df_CNTSD[df_CNTSD[\"Year\"]>=2000]\n",
    "\n",
    "df_CNTSD"
   ]
  },
  {
   "cell_type": "code",
   "execution_count": null,
   "metadata": {},
   "outputs": [],
   "source": [
    "plot = df_rsui.plot(x=\"Date\", y= countries,figsize=(20, 10))\n",
    "plot.set_title(\"RUSI for all countries\")\n",
    "plot.set_ylabel(\"RSUI\")\n",
    "fig, ax = plt.subplots(figsize=(20,10))\n",
    "bp = df_CNTSD.groupby('Country').plot(x=\"Year\", y= \"Weighted Conflict Index\", ax=ax,legend = False )\n",
    "fig.legend(labels=countries)"
   ]
  }
 ],
 "metadata": {
  "kernelspec": {
   "display_name": "Python 3.10.5 64-bit",
   "language": "python",
   "name": "python3"
  },
  "language_info": {
   "codemirror_mode": {
    "name": "ipython",
    "version": 3
   },
   "file_extension": ".py",
   "mimetype": "text/x-python",
   "name": "python",
   "nbconvert_exporter": "python",
   "pygments_lexer": "ipython3",
   "version": "3.10.5"
  },
  "orig_nbformat": 4,
  "vscode": {
   "interpreter": {
    "hash": "aee8b7b246df8f9039afb4144a1f6fd8d2ca17a180786b69acc140d282b71a49"
   }
  }
 },
 "nbformat": 4,
 "nbformat_minor": 2
}
