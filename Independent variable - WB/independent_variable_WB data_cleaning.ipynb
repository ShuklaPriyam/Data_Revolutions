{
 "cells": [
  {
   "cell_type": "markdown",
   "id": "367ed9a9-d6e0-4eb0-bad4-077db917a2cf",
   "metadata": {
    "tags": []
   },
   "source": [
    "# Revolutions — World Bank data cleaning\n",
    "*Prepared by Matthew Chiu*\n",
    "\n",
    "**This is a data cleaning notebook for the *Revolutions* project.**\n",
    "- It cleans the data from the World Bank (a full list of variables is available separately).\n",
    "- The data is taken from the Redl & Hlashtwayo (2021) paper: the variables are lifted from there.\n",
    "- Year, countries and the specific series can all be updated as necessary."
   ]
  },
  {
   "cell_type": "code",
   "execution_count": 3,
   "id": "0c790466-bda3-49bf-9166-0518027c73cd",
   "metadata": {
    "collapsed": true,
    "jupyter": {
     "outputs_hidden": true
    },
    "tags": []
   },
   "outputs": [
    {
     "name": "stdout",
     "output_type": "stream",
     "text": [
      "Requirement already satisfied: wbgapi in /Users/matthewchiu/opt/anaconda3/lib/python3.9/site-packages (1.0.12)\n",
      "Requirement already satisfied: tabulate in /Users/matthewchiu/opt/anaconda3/lib/python3.9/site-packages (from wbgapi) (0.8.10)\n",
      "Requirement already satisfied: PyYAML in /Users/matthewchiu/opt/anaconda3/lib/python3.9/site-packages (from wbgapi) (6.0)\n",
      "Requirement already satisfied: requests in /Users/matthewchiu/opt/anaconda3/lib/python3.9/site-packages (from wbgapi) (2.28.1)\n",
      "Requirement already satisfied: charset-normalizer<3,>=2 in /Users/matthewchiu/opt/anaconda3/lib/python3.9/site-packages (from requests->wbgapi) (2.0.4)\n",
      "Requirement already satisfied: urllib3<1.27,>=1.21.1 in /Users/matthewchiu/opt/anaconda3/lib/python3.9/site-packages (from requests->wbgapi) (1.26.11)\n",
      "Requirement already satisfied: idna<4,>=2.5 in /Users/matthewchiu/opt/anaconda3/lib/python3.9/site-packages (from requests->wbgapi) (3.3)\n",
      "Requirement already satisfied: certifi>=2017.4.17 in /Users/matthewchiu/opt/anaconda3/lib/python3.9/site-packages (from requests->wbgapi) (2022.9.24)\n"
     ]
    }
   ],
   "source": [
    "!pip install wbgapi\n",
    "import wbgapi as wb\n",
    "import pandas as pd\n",
    "def read_csv(filename):\n",
    "    return pd.read_csv(filename).to_dict('records')"
   ]
  },
  {
   "cell_type": "code",
   "execution_count": 2,
   "id": "6b5056ea-65f1-4820-ac49-13f878ccf169",
   "metadata": {
    "tags": []
   },
   "outputs": [],
   "source": [
    "test_df = wb.data.DataFrame('SP.POP.TOTL', wb.region.members('AFR'), range(2010, 2020, 2))\n",
    "test_df.to_csv(r'/Users/matthewchiu/Desktop/LSESU DSS Revolutions project/economic_data.csv')"
   ]
  },
  {
   "cell_type": "code",
   "execution_count": 35,
   "id": "e7146b3f-e46f-4acb-9a2e-b2f952d898d5",
   "metadata": {
    "collapsed": true,
    "jupyter": {
     "outputs_hidden": true
    },
    "tags": []
   },
   "outputs": [
    {
     "data": {
      "text/html": [
       "<div class=\"wbgapi\"><table>\n",
       "<thead>\n",
       "<tr><th>id  </th><th>value                          </th></tr>\n",
       "</thead>\n",
       "<tbody>\n",
       "<tr><td>1   </td><td>Agriculture &amp; Rural Development</td></tr>\n",
       "<tr><td>2   </td><td>Aid Effectiveness              </td></tr>\n",
       "<tr><td>3   </td><td>Economy &amp; Growth               </td></tr>\n",
       "<tr><td>4   </td><td>Education                      </td></tr>\n",
       "<tr><td>5   </td><td>Energy &amp; Mining                </td></tr>\n",
       "<tr><td>6   </td><td>Environment                    </td></tr>\n",
       "<tr><td>7   </td><td>Financial Sector               </td></tr>\n",
       "<tr><td>8   </td><td>Health                         </td></tr>\n",
       "<tr><td>9   </td><td>Infrastructure                 </td></tr>\n",
       "<tr><td>10  </td><td>Social Protection &amp; Labor      </td></tr>\n",
       "<tr><td>11  </td><td>Poverty                        </td></tr>\n",
       "<tr><td>12  </td><td>Private Sector                 </td></tr>\n",
       "<tr><td>13  </td><td>Public Sector                  </td></tr>\n",
       "<tr><td>14  </td><td>Science &amp; Technology           </td></tr>\n",
       "<tr><td>15  </td><td>Social Development             </td></tr>\n",
       "<tr><td>16  </td><td>Urban Development              </td></tr>\n",
       "<tr><td>17  </td><td>Gender                         </td></tr>\n",
       "<tr><td>18  </td><td>Millenium development goals    </td></tr>\n",
       "<tr><td>19  </td><td>Climate Change                 </td></tr>\n",
       "<tr><td>20  </td><td>External Debt                  </td></tr>\n",
       "<tr><td>21  </td><td>Trade                          </td></tr>\n",
       "<tr><td>    </td><td>21 elements                    </td></tr>\n",
       "</tbody>\n",
       "</table></div>"
      ],
      "text/plain": [
       "id    value\n",
       "----  -------------------------------\n",
       "1     Agriculture & Rural Development\n",
       "2     Aid Effectiveness\n",
       "3     Economy & Growth\n",
       "4     Education\n",
       "5     Energy & Mining\n",
       "6     Environment\n",
       "7     Financial Sector\n",
       "8     Health\n",
       "9     Infrastructure\n",
       "10    Social Protection & Labor\n",
       "11    Poverty\n",
       "12    Private Sector\n",
       "13    Public Sector\n",
       "14    Science & Technology\n",
       "15    Social Development\n",
       "16    Urban Development\n",
       "17    Gender\n",
       "18    Millenium development goals\n",
       "19    Climate Change\n",
       "20    External Debt\n",
       "21    Trade\n",
       "      21 elements"
      ]
     },
     "execution_count": 35,
     "metadata": {},
     "output_type": "execute_result"
    }
   ],
   "source": [
    "wb.topic.info()"
   ]
  },
  {
   "cell_type": "code",
   "execution_count": 4,
   "id": "6551e9dc-e9db-44ec-b26c-179540cf02dc",
   "metadata": {},
   "outputs": [
    {
     "name": "stdout",
     "output_type": "stream",
     "text": [
      "['SN.ITK.MSFI.ZS', 'SI.POV.MDIM', 'SI.POV.MDIM.XQ', 'SI.POV.LMIC.GP', 'SI.POV.MDIM.IT', 'EN.ATM.CO2E.PP.GD.KD', 'FR.INR.RINR', 'GC.XPN.INTP.RV.ZS', 'FR.INR.LNDP', 'NY.GDP.DEFL.KD.ZG', 'BX.KLT.DINV.WD.GD.ZS', 'NY.GDP.MKTP.KD', 'NY.GDP.PCAP.KD', 'GC.DOD.TOTL.GD.ZS', 'BN.CAB.XOKA.GD.ZS', 'MS.MIL.XPND.GD.ZS', 'GC.TAX.TOTL.GD.ZS', 'PX.REX.REER', 'PA.NUS.FCRF', 'PA.NUS.PPPC.RF', 'EG.ELC.ACCS.ZS', 'SH.H2O.BASW.ZS', 'SH.STA.BASS.ZS', 'EG.CFT.ACCS.ZS', 'SH.MED.CMHW.P3', 'SH.XPD.CHEX.PP.CD', 'SH.MED.BEDS.ZS', 'SP.DYN.LE00.FE.IN', 'SP.DYN.LE00.MA.IN', 'SH.MED.NUMW.P3', 'SH.MED.PHYS.ZS', 'SI.POV.GINI', 'SI.DST.10TH.10', 'SI.DST.FRST.10', 'SE.ENR.PRSC.FM.ZS', 'FX.OWN.TOTL.40.ZS', 'SE.ADT.1524.LT.FM.ZS', 'SL.UEM.1524.MA.ZS', 'SL.UEM.1524.FE.ZS', 'SL.WAG.0714.ZS', 'SL.UEM.TOTL.ZS', 'SL.UEM.INTM.ZS', 'ST.INT.ARVL', 'ST.INT.DPRT', 'SE.ADT.LITR.ZS', 'SE.ADT.1524.LT.ZS', 'SE.TER.CUAT.BA.MA.ZS', 'SE.TER.CUAT.BA.ZS', 'SE.TER.CUAT.BA.FE.ZS', 'EN.URB.LCTY', 'EN.URB.MCTY.TL.ZS', 'EN.POP.DNST', 'EN.POP.SLUM.UR.ZS', 'SP.URB.TOTL.IN.ZS', 'SM.POP.TOTL.ZS']\n"
     ]
    }
   ],
   "source": [
    "WB_database_codes = read_csv('WB_categories.csv')\n",
    "data_categories = []\n",
    "i = 0\n",
    "for element in WB_database_codes:\n",
    "    data_categories.append(WB_database_codes[i]['Code'])\n",
    "    i += 1\n",
    "print(data_categories)\n",
    "\n",
    "# missing (to add: Life expectancy at birth, female less male; Unemployment, youth male less female)"
   ]
  },
  {
   "cell_type": "code",
   "execution_count": 53,
   "id": "d3b9d8d1-c142-460c-b4da-041c929587bc",
   "metadata": {},
   "outputs": [],
   "source": [
    "full_dataset_WB = wb.data.DataFrame(data_categories, time=range(2010,2021), labels=True, columns='series')\n",
    "full_dataset_WB.to_csv(r'full_dataset_WB.csv')"
   ]
  },
  {
   "cell_type": "code",
   "execution_count": 15,
   "id": "5704de27-f9e3-4029-80ef-eb15f6d4668a",
   "metadata": {
    "collapsed": true,
    "jupyter": {
     "outputs_hidden": true
    },
    "tags": []
   },
   "outputs": [
    {
     "data": {
      "text/html": [
       "<div class=\"wbgapi\"><table>\n",
       "<thead>\n",
       "<tr><th>id  </th><th>value                          </th></tr>\n",
       "</thead>\n",
       "<tbody>\n",
       "<tr><td>1   </td><td>Agriculture &amp; Rural Development</td></tr>\n",
       "<tr><td>2   </td><td>Aid Effectiveness              </td></tr>\n",
       "<tr><td>3   </td><td>Economy &amp; Growth               </td></tr>\n",
       "<tr><td>4   </td><td>Education                      </td></tr>\n",
       "<tr><td>5   </td><td>Energy &amp; Mining                </td></tr>\n",
       "<tr><td>6   </td><td>Environment                    </td></tr>\n",
       "<tr><td>7   </td><td>Financial Sector               </td></tr>\n",
       "<tr><td>8   </td><td>Health                         </td></tr>\n",
       "<tr><td>9   </td><td>Infrastructure                 </td></tr>\n",
       "<tr><td>10  </td><td>Social Protection &amp; Labor      </td></tr>\n",
       "<tr><td>11  </td><td>Poverty                        </td></tr>\n",
       "<tr><td>12  </td><td>Private Sector                 </td></tr>\n",
       "<tr><td>13  </td><td>Public Sector                  </td></tr>\n",
       "<tr><td>14  </td><td>Science &amp; Technology           </td></tr>\n",
       "<tr><td>15  </td><td>Social Development             </td></tr>\n",
       "<tr><td>16  </td><td>Urban Development              </td></tr>\n",
       "<tr><td>17  </td><td>Gender                         </td></tr>\n",
       "<tr><td>18  </td><td>Millenium development goals    </td></tr>\n",
       "<tr><td>19  </td><td>Climate Change                 </td></tr>\n",
       "<tr><td>20  </td><td>External Debt                  </td></tr>\n",
       "<tr><td>21  </td><td>Trade                          </td></tr>\n",
       "<tr><td>    </td><td>21 elements                    </td></tr>\n",
       "</tbody>\n",
       "</table></div>"
      ],
      "text/plain": [
       "id    value\n",
       "----  -------------------------------\n",
       "1     Agriculture & Rural Development\n",
       "2     Aid Effectiveness\n",
       "3     Economy & Growth\n",
       "4     Education\n",
       "5     Energy & Mining\n",
       "6     Environment\n",
       "7     Financial Sector\n",
       "8     Health\n",
       "9     Infrastructure\n",
       "10    Social Protection & Labor\n",
       "11    Poverty\n",
       "12    Private Sector\n",
       "13    Public Sector\n",
       "14    Science & Technology\n",
       "15    Social Development\n",
       "16    Urban Development\n",
       "17    Gender\n",
       "18    Millenium development goals\n",
       "19    Climate Change\n",
       "20    External Debt\n",
       "21    Trade\n",
       "      21 elements"
      ]
     },
     "execution_count": 15,
     "metadata": {},
     "output_type": "execute_result"
    }
   ],
   "source": [
    "wb.topic.info()"
   ]
  }
 ],
 "metadata": {
  "kernelspec": {
   "display_name": "Python 3 (ipykernel)",
   "language": "python",
   "name": "python3"
  },
  "language_info": {
   "codemirror_mode": {
    "name": "ipython",
    "version": 3
   },
   "file_extension": ".py",
   "mimetype": "text/x-python",
   "name": "python",
   "nbconvert_exporter": "python",
   "pygments_lexer": "ipython3",
   "version": "3.9.13"
  }
 },
 "nbformat": 4,
 "nbformat_minor": 5
}
